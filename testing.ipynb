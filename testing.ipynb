{
 "cells": [
  {
   "cell_type": "code",
   "execution_count": 3,
   "metadata": {},
   "outputs": [
    {
     "name": "stdout",
     "output_type": "stream",
     "text": [
      "abcdefghijklmnopqrstuvwxyzABCDEFGHIJKLMNOPQRSTUVWXYZ\n",
      "abcdefghijklmnopqrstuvwxyz\n",
      "ABCDEFGHIJKLMNOPQRSTUVWXYZ\n",
      "0123456789\n",
      "0123456789abcdefABCDEF\n",
      " \t\n",
      "\u000b\f\n",
      "!\"#$%&'()*+,-./:;<=>?@[\\]^_`{|}~\n"
     ]
    }
   ],
   "source": [
    "import string\n",
    "\n",
    "print(string.ascii_letters)\n",
    "print(string.ascii_lowercase)\n",
    "print(string.ascii_uppercase)\n",
    "print(string.digits)\n",
    "print(string.hexdigits)\n",
    "print(string.whitespace)\n",
    "print(string.punctuation)"
   ]
  },
  {
   "cell_type": "code",
   "execution_count": 5,
   "metadata": {},
   "outputs": [
    {
     "name": "stdout",
     "output_type": "stream",
     "text": [
      "JournalDev\n",
      "Welcome to JournalDev\n",
      "Welcome to JournalDev\n"
     ]
    }
   ],
   "source": [
    "from string import Formatter\n",
    "\n",
    "formatter = Formatter()\n",
    "print(formatter.format('{wbsite}', wbsite='JournalDev'))\n",
    "print(formatter.format('{} {wbsite}', 'Welcome to', wbsite='JournalDev'))\n",
    "\n",
    "# format() behaves in similar manner\n",
    "print('{} {wbsite}'.format('Welcome to', wbsite='JournalDev'))"
   ]
  },
  {
   "cell_type": "code",
   "execution_count": 2,
   "metadata": {},
   "outputs": [],
   "source": [
    "random_gib_shit = input(\"enter random shit: \")\n",
    "\n",
    "gib_split = list(random_gib_shit)\n",
    "gib_sorted = sorted(set(random_gib_shit))\n",
    "x=[gib_split.count(i) for i in gib_sorted]\n",
    "\n",
    "combined_dict = dict(zip(gib_sorted, x))"
   ]
  },
  {
   "cell_type": "code",
   "execution_count": 9,
   "metadata": {},
   "outputs": [
    {
     "data": {
      "text/plain": [
       "[1, 3, 2]"
      ]
     },
     "execution_count": 9,
     "metadata": {},
     "output_type": "execute_result"
    }
   ],
   "source": [
    "list(combined_dict.values())"
   ]
  }
 ],
 "metadata": {
  "interpreter": {
   "hash": "a37c2fe41c6abf47487c84e35afb2316d87b1ed7435317ac086a212220425b10"
  },
  "kernelspec": {
   "display_name": "Python 3.8.8 64-bit ('base': conda)",
   "language": "python",
   "name": "python3"
  },
  "language_info": {
   "codemirror_mode": {
    "name": "ipython",
    "version": 3
   },
   "file_extension": ".py",
   "mimetype": "text/x-python",
   "name": "python",
   "nbconvert_exporter": "python",
   "pygments_lexer": "ipython3",
   "version": "3.8.8"
  },
  "orig_nbformat": 4
 },
 "nbformat": 4,
 "nbformat_minor": 2
}
